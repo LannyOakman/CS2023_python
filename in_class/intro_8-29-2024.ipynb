{
 "cells": [
  {
   "cell_type": "code",
   "execution_count": null,
   "metadata": {},
   "outputs": [],
   "source": [
    "import math\n",
    "\n",
    "%timeit [i**2 for i in range(1000)]"
   ]
  },
  {
   "cell_type": "code",
   "execution_count": null,
   "metadata": {},
   "outputs": [],
   "source": [
    "%%timeit\n",
    "   import random\n",
    "   numbers = [random.randint(1, 100) for _ in range(1000)]\n",
    "   sorted_numbers = sorted(numbers)"
   ]
  },
  {
   "cell_type": "code",
   "execution_count": null,
   "metadata": {},
   "outputs": [],
   "source": [
    "%%timeit\n",
    "   import random\n",
    "   numbers = [random.randint(1, 100) for i in range(1000)]\n",
    "   sorted_numbers = sorted(numbers)\n",
    "print(sorted_numbers)"
   ]
  },
  {
   "cell_type": "code",
   "execution_count": null,
   "metadata": {},
   "outputs": [],
   "source": [
    "from IPython.display import Math\n",
    "\n",
    "Math(r'f(x) = \\int_{-\\infty}^x e^{-t^2} dt')"
   ]
  },
  {
   "cell_type": "code",
   "execution_count": null,
   "metadata": {},
   "outputs": [],
   "source": [
    "# attatching docustring (those fancy hover strings)\n",
    "def greet(name):\n",
    "    \"\"\"A simple greeting function\"\"\"\n",
    "    return(f\"Hello {name}!\")\n",
    "\n",
    "greet('lanny\\n')\n",
    "\n",
    "# returns docustring\n",
    "greet??\n"
   ]
  },
  {
   "cell_type": "code",
   "execution_count": null,
   "metadata": {},
   "outputs": [],
   "source": [
    "# underscores give availability to reference previous outputs.... like ../ or ../../ .... kind of\n",
    "10 + 20\n",
    "\"Hello, \" + \"World!\"\n",
    "_ + \"!!!\"\n",
    "__ + '5'\n",
    "# 35\n",
    "# _2 + \" How are you?\"\n",
    "# 'Hello, World! How are you?'\n",
    "\n"
   ]
  },
  {
   "cell_type": "code",
   "execution_count": 20,
   "metadata": {},
   "outputs": [],
   "source": [
    "!mkdir test"
   ]
  },
  {
   "cell_type": "markdown",
   "metadata": {},
   "source": [
    "### hello"
   ]
  },
  {
   "cell_type": "code",
   "execution_count": 22,
   "metadata": {},
   "outputs": [
    {
     "name": "stdout",
     "output_type": "stream",
     "text": [
      "This is indented\n",
      "This is further indented\n",
      "This is not indented\n"
     ]
    },
    {
     "data": {
      "text/plain": [
       "'\\nmulti\\nline\\ncomment\\n'"
      ]
     },
     "execution_count": 22,
     "metadata": {},
     "output_type": "execute_result"
    }
   ],
   "source": [
    "if True:\n",
    "    print(\"This is indented\")\n",
    "    if True:\n",
    "        print(\"This is further indented\")\n",
    "print(\"This is not indented\")\n",
    "\n",
    "\"\"\"\n",
    "multi\n",
    "line\n",
    "comment\n",
    "\"\"\""
   ]
  },
  {
   "cell_type": "code",
   "execution_count": 23,
   "metadata": {},
   "outputs": [
    {
     "name": "stdout",
     "output_type": "stream",
     "text": [
      "The area of a circle with radius 5 is 78.54\n"
     ]
    }
   ],
   "source": [
    "#!/usr/bin/env/python3\n",
    "\n",
    "# Import statements (if needed)\n",
    "import math\n",
    "\n",
    "# Constants (if any)\n",
    "PI = 3.14159\n",
    "\n",
    "# Function definitions\n",
    "def circle_area(radius):\n",
    "    return PI * radius ** 2\n",
    "\n",
    "# Main script execution\n",
    "if __name__ == \"__main__\":\n",
    "    radius = 5\n",
    "    area = circle_area(radius)\n",
    "    print(f\"The area of a circle with radius {radius} is {area:.2f}\")"
   ]
  },
  {
   "cell_type": "markdown",
   "metadata": {},
   "source": [
    "<p> You can execute Python files by file_name.py</p>"
   ]
  },
  {
   "cell_type": "markdown",
   "metadata": {},
   "source": [
    "<p>While private variables do not exist in python, you can 'declare' one by using a leading underscore in variable names</p>"
   ]
  },
  {
   "cell_type": "code",
   "execution_count": 41,
   "metadata": {},
   "outputs": [
    {
     "data": {
      "text/plain": [
       "True"
      ]
     },
     "execution_count": 41,
     "metadata": {},
     "output_type": "execute_result"
    }
   ],
   "source": [
    "not False"
   ]
  }
 ],
 "metadata": {
  "kernelspec": {
   "display_name": "Python 3",
   "language": "python",
   "name": "python3"
  },
  "language_info": {
   "codemirror_mode": {
    "name": "ipython",
    "version": 3
   },
   "file_extension": ".py",
   "mimetype": "text/x-python",
   "name": "python",
   "nbconvert_exporter": "python",
   "pygments_lexer": "ipython3",
   "version": "3.12.5"
  }
 },
 "nbformat": 4,
 "nbformat_minor": 2
}
