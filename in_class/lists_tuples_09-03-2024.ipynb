{
 "cells": [
  {
   "cell_type": "markdown",
   "metadata": {},
   "source": [
    "<h3>Lists and tuples in python</h3>\n",
    "<p>Allows for:</p>\n",
    "<li>Mutability</li>\n",
    "<li>Indexing</li>\n",
    "<li>Ordering</li>\n",
    "<li>Slicing</li>\n",
    "<li>Length</li>\n"
   ]
  },
  {
   "cell_type": "markdown",
   "metadata": {},
   "source": [
    "<p>Was unaware that this was possible. Very cool.</p>"
   ]
  },
  {
   "cell_type": "code",
   "execution_count": 16,
   "metadata": {},
   "outputs": [
    {
     "name": "stdout",
     "output_type": "stream",
     "text": [
      "[1, 2, 3, 4, 5]\n",
      "y\n",
      "ynnaL\n"
     ]
    }
   ],
   "source": [
    "numbers = [x for x in range(1,6)]\n",
    "print(numbers)\n",
    "\n",
    "matrix = [[1, 2, 3], [4, 5, 6], [7, 8, 9]]\n",
    "\n",
    "l = 'Lanny'\n",
    "\n",
    "# printing last element of a list.\n",
    "print(l[-1])\n",
    "print(l[::-1])\n",
    "\n"
   ]
  },
  {
   "cell_type": "code",
   "execution_count": 17,
   "metadata": {},
   "outputs": [
    {
     "name": "stdout",
     "output_type": "stream",
     "text": [
      "['apple', 'cherry', 'orange']\n",
      "['apple', 'cherry']\n",
      "['cherry']\n",
      "[]\n"
     ]
    }
   ],
   "source": [
    "fruits = [\"apple\", \"banana\", \"cherry\", \"orange\"]\n",
    "\n",
    "fruits.remove(\"banana\") # remove by value\n",
    "print(fruits)\n",
    "\n",
    "fruits.pop() # remove last element\n",
    "print(fruits)\n",
    "\n",
    "fruits.pop(0) # remove by index, the first element\n",
    "print(fruits)\n",
    "\n",
    "fruits.clear() # remove all elements\n",
    "print(fruits)"
   ]
  },
  {
   "cell_type": "code",
   "execution_count": 22,
   "metadata": {},
   "outputs": [
    {
     "name": "stdout",
     "output_type": "stream",
     "text": [
      "[0, 1, 1, 2, 5, 5, 6, 7, 8, 9]\n",
      "[9, 8, 7, 6, 5, 5, 2, 1, 1, 0]\n",
      "Reversed:None\n"
     ]
    }
   ],
   "source": [
    "# The general syntax for list slicing is list[start:end], where start is \n",
    "# the index of the first element you want to include, and end is the index of the \n",
    "# first element you do not want to include.\n",
    "numbers = [0, 1, 2, 1, 5, 5, 6, 7, 8, 9]\n",
    "\n",
    "numbers.sort() # ascending order\n",
    "print(numbers)\n",
    "\n",
    "numbers.sort(reverse=True) # descending order\n",
    "print(numbers)\n",
    "\n",
    "print(\"Reversed:\", numbers.reverse())"
   ]
  },
  {
   "cell_type": "code",
   "execution_count": 23,
   "metadata": {},
   "outputs": [
    {
     "name": "stdout",
     "output_type": "stream",
     "text": [
      "Copy: [1, 2, 3, 4, 5]\n"
     ]
    }
   ],
   "source": [
    "original = [1, 2, 3, 4, 5]\n",
    "copy = original.copy() # copy the list\n",
    "print(\"Copy:\", copy)"
   ]
  },
  {
   "cell_type": "markdown",
   "metadata": {},
   "source": [
    "<p>Generates tuple. If lists are not equal in size, the longer list will be truncated.</p>"
   ]
  },
  {
   "cell_type": "code",
   "execution_count": 24,
   "metadata": {},
   "outputs": [
    {
     "name": "stdout",
     "output_type": "stream",
     "text": [
      "[(0, 'red'), (1, 'green'), (2, 'blue'), (3, 'yellow'), (4, 'black')]\n"
     ]
    }
   ],
   "source": [
    "ind = [0, 1, 2, 3, 4]\n",
    "color = [\"red\", \"green\", \"blue\", \"yellow\", \"black\"]\n",
    "\n",
    "# Combine the two lists into a new list of tuples\n",
    "combined = list(zip(ind, color))\n",
    "print(combined)"
   ]
  },
  {
   "cell_type": "markdown",
   "metadata": {},
   "source": [
    "<h1>Exercise 1: Creating and Accessing Lists</h1>"
   ]
  },
  {
   "cell_type": "code",
   "execution_count": 25,
   "metadata": {},
   "outputs": [
    {
     "name": "stdout",
     "output_type": "stream",
     "text": [
      "My favorite fruits: ['Starfruit', 'Kiwi', 'Orange', 'Apple', 'Watermelon']\n",
      "First fruit: Starfruit\n",
      "Last fruit: Watermelon\n",
      "Third fruit: Orange\n"
     ]
    }
   ],
   "source": [
    "# Create a list called 'fruits' with at least 5 of your favorite fruits\n",
    "fruits = ['Starfruit', 'Kiwi', 'Orange', 'Apple', 'Watermelon']\n",
    "\n",
    "# Print the entire list\n",
    "print(\"My favorite fruits:\", fruits)\n",
    "\n",
    "# Print the first fruit in the list\n",
    "print(\"First fruit:\", fruits[0])\n",
    "\n",
    "# Print the last fruit in the list\n",
    "print(\"Last fruit:\",fruits[-1])\n",
    "\n",
    "# Print the third fruit in the list\n",
    "print(\"Third fruit:\", fruits[2])"
   ]
  },
  {
   "cell_type": "markdown",
   "metadata": {},
   "source": [
    "<h1>Exercise 2: List Operations</h1>"
   ]
  },
  {
   "cell_type": "code",
   "execution_count": 33,
   "metadata": {},
   "outputs": [
    {
     "name": "stdout",
     "output_type": "stream",
     "text": [
      "Modified list: [60, 50, 40, 20, 15, 10]\n",
      "Sum of numbers: 195\n"
     ]
    }
   ],
   "source": [
    "numbers = [10, 20, 30, 40, 50]\n",
    "\n",
    "# Add the number 60 to the end of the list\n",
    "numbers.append(60)\n",
    "\n",
    "# Insert the number 15 at index 1\n",
    "numbers.insert(1, 15)\n",
    "\n",
    "# Remove the number 30 from the list\n",
    "numbers.remove(30)\n",
    "# Sort the list in descending order\n",
    "\n",
    "numbers.sort(reverse=True)\n",
    "print(\"Modified list:\", numbers)\n",
    "\n",
    "# Calculate and print the sum of all numbers in the list\n",
    "total = sum(numbers)\n",
    "print(\"Sum of numbers:\", total)"
   ]
  },
  {
   "cell_type": "markdown",
   "metadata": {},
   "source": [
    "<h1>Exercise 3: List Slicing</h1>"
   ]
  },
  {
   "cell_type": "code",
   "execution_count": 54,
   "metadata": {},
   "outputs": [
    {
     "name": "stdout",
     "output_type": "stream",
     "text": [
      "First three letters: ['a', 'b', 'c']\n",
      "Last three letters: ['e', 'f', 'g']\n",
      "Every second letter: ['a', 'c', 'e', 'g']\n",
      "Reversed letters: ['g', 'f', 'e', 'd', 'c', 'b', 'a']\n"
     ]
    }
   ],
   "source": [
    "letters = ['a', 'b', 'c', 'd', 'e', 'f', 'g']\n",
    "\n",
    "# Get the first three letters\n",
    "first_three = letters[0:3]\n",
    "print(\"First three letters:\", first_three)\n",
    "\n",
    "# Get the last three letters\n",
    "last_three = letters[4:]\n",
    "print(\"Last three letters:\", last_three)\n",
    "\n",
    "# # Get every second letter\n",
    "every_second =  letters[::2]\n",
    "print(\"Every second letter:\", every_second)\n",
    "\n",
    "# # Reverse the list\n",
    "reversed_letters =  letters[::-1]\n",
    "print(\"Reversed letters:\", reversed_letters)-\n"
   ]
  },
  {
   "cell_type": "markdown",
   "metadata": {},
   "source": [
    "<h1>Tuples</h1>\n",
    "<p>Like lists, but immutable (cannot change)<br> Follows similar methods/functions to python</p>"
   ]
  },
  {
   "cell_type": "code",
   "execution_count": 55,
   "metadata": {},
   "outputs": [],
   "source": [
    "numbers = (1, 2, 3, 4, 5)\n"
   ]
  },
  {
   "cell_type": "markdown",
   "metadata": {},
   "source": [
    "# Exercise 1: Creating and Accessing Tuples"
   ]
  },
  {
   "cell_type": "code",
   "execution_count": 2,
   "metadata": {},
   "outputs": [
    {
     "name": "stdout",
     "output_type": "stream",
     "text": [
      "My favorite colors: ('red', 'orange', 'yellow', 'green', 'blue')\n",
      "First color: red\n",
      "Last color: blue\n",
      "Number of colors: 5\n"
     ]
    }
   ],
   "source": [
    "# Create a tuple called 'colors' with at least 5 of your favorite colors\n",
    "colors = ('red', 'orange', 'yellow', 'green', 'blue')\n",
    "\n",
    "# Print the entire tuple\n",
    "print(\"My favorite colors:\", colors)\n",
    "\n",
    "# Print the first color in the tuple\n",
    "print(\"First color:\", colors[0])\n",
    "\n",
    "# Print the last color in the tuple\n",
    "print(\"Last color:\", colors[-1])\n",
    "\n",
    "# Print the number of items in the tuple\n",
    "print(\"Number of colors:\", len(colors))"
   ]
  },
  {
   "cell_type": "markdown",
   "metadata": {},
   "source": [
    "<h1>Exercise 2: Tuple Packing and Unpacking</h1>"
   ]
  },
  {
   "cell_type": "code",
   "execution_count": 8,
   "metadata": {},
   "outputs": [
    {
     "name": "stdout",
     "output_type": "stream",
     "text": [
      "Name: Lanny\n",
      "Age: 20\n",
      "Hobby: baking\n",
      "Name: Alice\n",
      "Age: 25\n",
      "Hobby: reading\n",
      "\n",
      "Name: Bob\n",
      "Age: 30\n",
      "Hobby: swimming\n",
      "\n",
      "Name: Charlie\n",
      "Age: 22\n",
      "Hobby: painting\n",
      "\n"
     ]
    }
   ],
   "source": [
    "# Create a tuple with your name, age, and favorite hobby\n",
    "person_info = ('Lanny', 20, 'baking')\n",
    "\n",
    "# Unpack the tuple into separate variables\n",
    "name, age, hobby = person_info\n",
    "\n",
    "print(f\"Name: {name}\")\n",
    "print(f\"Age: {age}\")\n",
    "print(f\"Hobby: {hobby}\")\n",
    "\n",
    "# Create a list of tuples with information about your friends\n",
    "friends = [\n",
    "    ('Alice', 25, 'reading'),\n",
    "    ('Bob', 30, 'swimming'),\n",
    "    ('Charlie', 22, 'painting')\n",
    "]\n",
    "\n",
    "# Use a for loop to unpack and print each friend's information\n",
    "for friend in friends:\n",
    "    # Unpack the tuple and print the information\n",
    "    name, age, hobby = friend\n",
    "    print(f\"Name: {name}\\nAge: {age}\\nHobby: {hobby}\\n\")"
   ]
  },
  {
   "cell_type": "markdown",
   "metadata": {},
   "source": [
    "<h1>Exercise 3: Tuple Methods and Operations</h1>"
   ]
  },
  {
   "cell_type": "code",
   "execution_count": 14,
   "metadata": {},
   "outputs": [
    {
     "name": "stdout",
     "output_type": "stream",
     "text": [
      "Number of 5s: 3\n",
      "Index of 9: 5\n",
      "Minimum value: 1, Maximum value: 9\n"
     ]
    }
   ],
   "source": [
    "numbers = (3, 1, 4, 1, 5, 9, 2, 6, 5, 3, 5)\n",
    "\n",
    "# Count how many times 5 appears in the tuple\n",
    "count_of_5 = numbers.count(5)\n",
    "print(\"Number of 5s:\", count_of_5)\n",
    "\n",
    "# Find the index of the first occurrence of 9\n",
    "index_of_9 = numbers.index(9)\n",
    "print(\"Index of 9:\", index_of_9)\n",
    "\n",
    "# Find the minimum and maximum values in the tuple\n",
    "min_value = min(numbers)\n",
    "max_value = max(numbers)\n",
    "print(f\"Minimum value: {min_value}, Maximum value: {max_value}\")"
   ]
  },
  {
   "cell_type": "markdown",
   "metadata": {},
   "source": [
    "# Exercise 4: Tuple as Return Value"
   ]
  },
  {
   "cell_type": "code",
   "execution_count": 18,
   "metadata": {},
   "outputs": [
    {
     "name": "stdout",
     "output_type": "stream",
     "text": [
      "Sum: 30\n",
      "Average: 6.0\n"
     ]
    }
   ],
   "source": [
    "def calculate_statistics(numbers):\n",
    "    # Calculate the sum and average of the numbers\n",
    "    # Return these values as a tuple\n",
    "    total = sum(numbers)\n",
    "    avg = total/len(numbers)\n",
    "    return (total, avg)\n",
    "\n",
    "# Test the function with a list of numbers\n",
    "test_numbers = [2, 4, 6, 8, 10]\n",
    "result = calculate_statistics(test_numbers)\n",
    "\n",
    "# Unpack the returned tuple and print the results\n",
    "sum_result, avg_result = result\n",
    "print(f\"Sum: {sum_result}\")\n",
    "print(f\"Average: {avg_result}\")"
   ]
  },
  {
   "cell_type": "markdown",
   "metadata": {},
   "source": [
    "# Argument Packing: Hands-On Practice"
   ]
  },
  {
   "cell_type": "code",
   "execution_count": 24,
   "metadata": {},
   "outputs": [
    {
     "name": "stdout",
     "output_type": "stream",
     "text": [
      "3.0\n",
      "2.3\n",
      "None\n"
     ]
    }
   ],
   "source": [
    "def calculate_average(*numbers):  # Replace ? with the correct parameter(s)\n",
    "    \"\"\"\n",
    "    This function calculates the average of a variable number of numeric arguments.\n",
    "    \n",
    "    Args:\n",
    "        numbers: tuple containing several numbers\n",
    "        tuple\n",
    "    \n",
    "    Returns:\n",
    "      None:\n",
    "        If no numbers are provided.\n",
    "      float:\n",
    "        The average of the input numbers.\n",
    "      \n",
    "    \"\"\"\n",
    "    if not numbers:\n",
    "        return None  # Return None if no arguments are passed\n",
    "\n",
    "    average = sum(numbers)/len(numbers)\n",
    "\n",
    "    return average\n",
    "\n",
    "print(calculate_average(1, 2, 3, 4, 5))  # Output: 3.0\n",
    "print(calculate_average(1.3, 2.3, 3.3))  # Output: 2.3\n",
    "print(calculate_average())  # Output: None"
   ]
  },
  {
   "cell_type": "code",
   "execution_count": 9,
   "metadata": {},
   "outputs": [
    {
     "data": {
      "text/plain": [
       "2"
      ]
     },
     "execution_count": 9,
     "metadata": {},
     "output_type": "execute_result"
    }
   ],
   "source": [
    "coffee = ['pumpkin spice', 'pistachio', 'normal', 'decaf']\n",
    "coffee[:-2]\n",
    "zip(coffee)\n",
    "\n",
    "def returnone():\n",
    "    return 1\n",
    "\n",
    "def returnPlusOne(param):\n",
    "    return param + 1\n",
    "\n",
    "returnPlusOne(returnone())\n"
   ]
  },
  {
   "cell_type": "code",
   "execution_count": 19,
   "metadata": {},
   "outputs": [
    {
     "name": "stdout",
     "output_type": "stream",
     "text": [
      "[1, 2, 2, 4, 5, 6]\n",
      "[1, 2, 2, 4, 5, 6, 1]\n",
      "[1, 6, 5, 4, 2, 2, 1]\n"
     ]
    }
   ],
   "source": [
    "l = [1,5,4,2,6,2]\n",
    "\n",
    "l.sort()\n",
    "\n",
    "print(l)\n",
    "\n",
    "l.append(1)\n",
    "\n",
    "print(l)\n",
    "\n",
    "l.reverse()\n",
    "\n",
    "\n",
    "l = {1,2,3,4}\n"
   ]
  },
  {
   "cell_type": "code",
   "execution_count": 25,
   "metadata": {},
   "outputs": [
    {
     "name": "stdout",
     "output_type": "stream",
     "text": [
      "{'a': 'alpha', 'b': 'bravo', 'c': 'charlie'}\n"
     ]
    }
   ],
   "source": [
    "keys = ['a', 'b', 'c']\n",
    "values = ['alpha', 'bravo', 'charlie']\n",
    "\n",
    "# TODO: replace None with an expression that creates a dictionary from the two lists\n",
    "d = dict(zip(keys, values))\n",
    "print(d)\n"
   ]
  },
  {
   "cell_type": "code",
   "execution_count": 26,
   "metadata": {},
   "outputs": [
    {
     "name": "stdout",
     "output_type": "stream",
     "text": [
      "{'a': 'alpha', 'b': 'bravo', 'c': 'charlie', 'd': 'delta', 'e': 'echo', 'f': 'foxtrot'}\n"
     ]
    }
   ],
   "source": [
    "original = {\n",
    "    \"a\": \"alpha\",\n",
    "    \"b\": \"bravo\",\n",
    "    \"c\": \"charlie\"}\n",
    "new = {\n",
    "    \"d\": \"delta\",\n",
    "    \"e\": \"echo\",\n",
    "    \"f\": \"foxtrot\"}\n",
    "\n",
    "# TODO: write the expression to adds the new dictionary to the original dictionary\n",
    "original.update(new)\n",
    "print(original) # {'a': 'alpha', 'b': 'bravo', 'c': 'charlie', 'd': 'delta', 'e': 'echo', 'f': 'foxtrot'}"
   ]
  },
  {
   "cell_type": "code",
   "execution_count": 29,
   "metadata": {},
   "outputs": [
    {
     "name": "stdout",
     "output_type": "stream",
     "text": [
      "{'name': 'Alice Brown', 'city': 'Cincinnati'}\n"
     ]
    }
   ],
   "source": [
    "d = {\n",
    "    \"name\": \"Alice Brown\",\n",
    "    \"city\": \"Cincinnati\",\n",
    "    \"email\": \"alice.brown@acme.com\"}\n",
    "\n",
    "# Keys to extract\n",
    "extract = [\"name\", \"city\"]\n",
    "\n",
    "# TODO: replace None with the expression to create a dictionary with only the keys in the extract list\n",
    "new = {key: d[key] for key in extract if key}\n",
    "\n",
    "print(new) # {'name': 'Alice Brown', 'city': 'Cincinnati'}"
   ]
  },
  {
   "cell_type": "code",
   "execution_count": 30,
   "metadata": {},
   "outputs": [
    {
     "name": "stdout",
     "output_type": "stream",
     "text": [
      "{'b': 'bravo', 'c': 'charlie', 'd': 'delta', 'e': 'echo'}\n"
     ]
    }
   ],
   "source": [
    "d = {\n",
    "    \"a\": \"alpha\",\n",
    "    \"b\": \"bravo\",\n",
    "    \"c\": \"charlie\",\n",
    "    \"d\": \"delta\",\n",
    "    \"e\": \"echo\",\n",
    "    \"f\": \"foxtrot\"}\n",
    "\n",
    "# keys to remove\n",
    "keys = [\"a\", \"f\"]\n",
    "\n",
    "# TODO: write expression to remove the keys from the dictionary\n",
    "for key in keys:\n",
    "    d.pop(key)\n",
    "print(d) # {'b': 'bravo', 'c': 'charlie', 'd': 'delta', 'e': 'echo'}"
   ]
  },
  {
   "cell_type": "code",
   "execution_count": 34,
   "metadata": {},
   "outputs": [
    {
     "name": "stdout",
     "output_type": "stream",
     "text": [
      "['a', 'b', 'c']\n"
     ]
    }
   ],
   "source": [
    "d = {\n",
    "    \"a\": \"alpha\",\n",
    "    \"b\": \"bravo\",\n",
    "    \"c\": \"charlie\"}\n",
    "\n",
    "# TODO: replace None with an expression to get the keys from the dictionary\n",
    "keys = list(d.keys())\n",
    "\n",
    "print(keys)"
   ]
  },
  {
   "cell_type": "code",
   "execution_count": 40,
   "metadata": {},
   "outputs": [
    {
     "name": "stdout",
     "output_type": "stream",
     "text": [
      "{'b': 'ravo', 'c': 'charlie', 'a': 'alpha'}\n"
     ]
    }
   ],
   "source": [
    "d = {\n",
    "    \"a\": \"alpha\",\n",
    "    \"b\": \"ravo\",\n",
    "    \"c\": \"charlie\"}\n",
    "\n",
    "# TODO: replace None with an expression that creates a new dictionary that is sorted in descending order\n",
    "sort = dict(sorted(d.items(), key = lambda x: x[1], reverse = True))\n",
    "\n",
    "print(sort) # {'c': 'charlie', 'b': 'bravo', 'a': 'alpha'}"
   ]
  },
  {
   "cell_type": "code",
   "execution_count": 41,
   "metadata": {},
   "outputs": [
    {
     "name": "stdout",
     "output_type": "stream",
     "text": [
      "True\n"
     ]
    }
   ],
   "source": [
    "d = {\n",
    "    \"a\": \"alpha\",\n",
    "    \"b\": \"bravo\",\n",
    "    \"c\": \"charlie\"}\n",
    "\n",
    "\n",
    "#TODO: add an expression to the print statement to evaluate if d is empty\n",
    "if d:\n",
    "    print(True)\n",
    "else:\n",
    "    print(False)"
   ]
  },
  {
   "cell_type": "code",
   "execution_count": 47,
   "metadata": {},
   "outputs": [
    {
     "name": "stdout",
     "output_type": "stream",
     "text": [
      "{1, 2, 3, 4, 5}\n"
     ]
    }
   ],
   "source": [
    "# TODO: Replae None with the standard set constructor with the numbers 1, 2, 3, 4, 5\n",
    "numbers = set([1,2,3,4,5])\n",
    "\n",
    "print(numbers) # {1, 2, 3, 4, 5}"
   ]
  },
  {
   "cell_type": "code",
   "execution_count": 49,
   "metadata": {},
   "outputs": [
    {
     "name": "stdout",
     "output_type": "stream",
     "text": [
      "5\n"
     ]
    }
   ],
   "source": [
    "# TODO: Replace None with an express to evaluate the length of the set\n",
    "length = len(numbers)\n",
    "\n",
    "print(length)"
   ]
  },
  {
   "cell_type": "code",
   "execution_count": 50,
   "metadata": {},
   "outputs": [
    {
     "name": "stdout",
     "output_type": "stream",
     "text": [
      "{'e', 'd', 'c', 'a', 'b'}\n"
     ]
    }
   ],
   "source": [
    "lst = ['a', 'b', 'c', 'd', 'e']\n",
    "\n",
    "# TODO: Replace None with an expression that creates a set from a list\n",
    "letters = set(lst)\n",
    "\n",
    "print(letters) # {'a', 'b', 'c', 'd', 'e'}"
   ]
  },
  {
   "cell_type": "code",
   "execution_count": 52,
   "metadata": {},
   "outputs": [
    {
     "name": "stdout",
     "output_type": "stream",
     "text": [
      "{'d', 'a', 'e', 'b'}\n"
     ]
    }
   ],
   "source": [
    "letters = {'a', 'b', 'c', 'd', 'e'}\n",
    "\n",
    "# TODO: Write an expression that removes 'c' from the set\n",
    "letters.remove('c')\n",
    "\n",
    "print(letters) # {'a', 'b', 'd', 'e'}\n"
   ]
  },
  {
   "cell_type": "code",
   "execution_count": 53,
   "metadata": {},
   "outputs": [
    {
     "name": "stdout",
     "output_type": "stream",
     "text": [
      "False\n"
     ]
    }
   ],
   "source": [
    "letters = ['a', 'b', 'c', 'd', 'e', 'a', 'b', 'c', 'd', 'e']\n",
    "\n",
    "# TODO: Replace None with an expression that returns True if the list has any duplicates\n",
    "has_duplicates = (len(letters) == len(set(letters)))\n",
    "\n",
    "print(has_duplicates)\n",
    "\n"
   ]
  },
  {
   "cell_type": "code",
   "execution_count": 60,
   "metadata": {},
   "outputs": [
    {
     "name": "stdout",
     "output_type": "stream",
     "text": [
      "{1, 2, 3, 4, 5, 6, 7, 8, 9, 10}\n"
     ]
    }
   ],
   "source": [
    "# Problem Statement: Add elements of a list to a set\n",
    "\n",
    "# Inputs:\n",
    "numbers = {1, 2, 3, 4, 5}\n",
    "lst = [6, 7, 8, 9, 10]\n",
    "\n",
    "# TODO: Write an expression that adds the elements of the list to the set\n",
    "\n",
    "lst = set(lst + list((numbers)))\n",
    "\n",
    "print(lst) # {1, 2, 3, 4, 5, 6, 7, 8, 9, 10}\n",
    "\n"
   ]
  },
  {
   "cell_type": "code",
   "execution_count": 61,
   "metadata": {},
   "outputs": [
    {
     "name": "stdout",
     "output_type": "stream",
     "text": [
      "{50, 100}\n"
     ]
    }
   ],
   "source": [
    "set1 = {10, 20, 40, 50, 60, 80, 100}\n",
    "set2 = {30, 50, 100}\n",
    "\n",
    "# TODO: Replace None with an expression that returns the intersection of set1 and set2\n",
    "set3 = set1.intersection(set2)\n",
    "\n",
    "print(set3) # {50, 100}"
   ]
  },
  {
   "cell_type": "code",
   "execution_count": 64,
   "metadata": {},
   "outputs": [
    {
     "name": "stdout",
     "output_type": "stream",
     "text": [
      "{40, 10, 80, 20, 60}\n"
     ]
    }
   ],
   "source": [
    "set1 = {10, 20, 30, 40, 50, 60, 80, 100}\n",
    "set2 = {30, 50, 100}\n",
    "\n",
    "# TODO: Replace None with an expression that returns the union of set1 and set2\n",
    "set3 = set1.symmetric_difference(set2)\n",
    "# or\n",
    "set3 = set1 ^ set2\n",
    "print(set3) # {10, 20, 40, 60, 80}"
   ]
  }
 ],
 "metadata": {
  "kernelspec": {
   "display_name": "Python 3",
   "language": "python",
   "name": "python3"
  },
  "language_info": {
   "codemirror_mode": {
    "name": "ipython",
    "version": 3
   },
   "file_extension": ".py",
   "mimetype": "text/x-python",
   "name": "python",
   "nbconvert_exporter": "python",
   "pygments_lexer": "ipython3",
   "version": "3.12.5"
  }
 },
 "nbformat": 4,
 "nbformat_minor": 2
}
