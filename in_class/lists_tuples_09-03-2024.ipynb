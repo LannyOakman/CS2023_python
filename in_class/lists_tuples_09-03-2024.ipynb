{
 "cells": [
  {
   "cell_type": "markdown",
   "metadata": {},
   "source": [
    "<h3>Lists and tuples in python</h3>\n",
    "<p>Allows for:</p>\n",
    "<li>Mutability</li>\n",
    "<li>Indexing</li>\n",
    "<li>Ordering</li>\n",
    "<li>Slicing</li>\n",
    "<li>Length</li>\n"
   ]
  },
  {
   "cell_type": "code",
   "execution_count": 2,
   "metadata": {},
   "outputs": [
    {
     "name": "stdout",
     "output_type": "stream",
     "text": [
      "ynnaL\n"
     ]
    }
   ],
   "source": [
    "numbers = [x for x in range(1,6)]"
   ]
  }
 ],
 "metadata": {
  "kernelspec": {
   "display_name": "Python 3",
   "language": "python",
   "name": "python3"
  },
  "language_info": {
   "codemirror_mode": {
    "name": "ipython",
    "version": 3
   },
   "file_extension": ".py",
   "mimetype": "text/x-python",
   "name": "python",
   "nbconvert_exporter": "python",
   "pygments_lexer": "ipython3",
   "version": "3.12.5"
  }
 },
 "nbformat": 4,
 "nbformat_minor": 2
}
