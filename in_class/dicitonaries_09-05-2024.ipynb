{
 "cells": [
  {
   "cell_type": "markdown",
   "metadata": {},
   "source": [
    "# Dictionaries\n",
    "<p>mutable data structure. Basically associative array</p>"
   ]
  },
  {
   "cell_type": "code",
   "execution_count": null,
   "metadata": {},
   "outputs": [],
   "source": [
    "dictionary = {\n",
    "    \"key1\": \"value1\",\n",
    "    \"key2\": \"value2\",\n",
    "    \"key3\": \"value3\"\n",
    "}\n"
   ]
  },
  {
   "cell_type": "code",
   "execution_count": 1,
   "metadata": {},
   "outputs": [
    {
     "name": "stdout",
     "output_type": "stream",
     "text": [
      "{0: 0, 1: 1, 2: 4, 3: 9, 4: 16}\n",
      "{0: 0, 2: 4, 4: 16, 6: 36, 8: 64}\n",
      "{'a': 1, 'b': 2, 'c': 3}\n"
     ]
    }
   ],
   "source": [
    "# Creating a dictionary using comprehension\n",
    "squares = {x: x**2 for x in range(5)}\n",
    "print(squares)\n",
    "\n",
    "# Filtering items in a comprehension\n",
    "even_squares = {x: x**2 for x in range(10) if x % 2 == 0}\n",
    "print(even_squares)\n",
    "\n",
    "# zip() function\n",
    "keys = ['a', 'b', 'c']\n",
    "values = [1, 2, 3]\n",
    "my_dict = {k: v for k, v in zip(keys, values)}\n",
    "print(my_dict)"
   ]
  },
  {
   "cell_type": "code",
   "execution_count": 2,
   "metadata": {},
   "outputs": [
    {
     "name": "stdout",
     "output_type": "stream",
     "text": [
      "Alice\n",
      "25\n",
      "Not available\n"
     ]
    }
   ],
   "source": [
    "# Accessing values\n",
    "my_dict = {'name': 'Alice', 'age': 25, 'city': 'New York'}\n",
    "\n",
    "print(my_dict['name'])  # Using square brackets\n",
    "print(my_dict.get('age'))  # Using get() method\n",
    "# returns ntos available as null\n",
    "print(my_dict.get('email', 'Not available'))  # Using get() with default value"
   ]
  },
  {
   "cell_type": "code",
   "execution_count": 3,
   "metadata": {},
   "outputs": [
    {
     "name": "stdout",
     "output_type": "stream",
     "text": [
      "dict_keys(['a', 'b', 'c'])\n",
      "a\n",
      "b\n",
      "c\n",
      "dict_values([1, 2, 3])\n",
      "1\n",
      "2\n",
      "3\n",
      "dict_items([('a', 1), ('b', 2), ('c', 3)])\n",
      "a: 1\n",
      "b: 2\n",
      "c: 3\n"
     ]
    }
   ],
   "source": [
    "sample_dict = {'a': 1, 'b': 2, 'c': 3}\n",
    "\n",
    "# Looping through keys\n",
    "print(sample_dict.keys())\n",
    "for key in sample_dict:  # or equivalently sample_dict.keys()\n",
    "    print(key)\n",
    "\n",
    "# Looping through values\n",
    "print(sample_dict.values())\n",
    "for value in sample_dict.values():\n",
    "    print(value)\n",
    "\n",
    "# Looping through key-value pairs\n",
    "print(sample_dict.items())\n",
    "for key, value in sample_dict.items():\n",
    "    print(f\"{key}: {value}\")"
   ]
  },
  {
   "cell_type": "code",
   "execution_count": null,
   "metadata": {},
   "outputs": [],
   "source": []
  },
  {
   "cell_type": "markdown",
   "metadata": {},
   "source": []
  }
 ],
 "metadata": {
  "kernelspec": {
   "display_name": "Python 3",
   "language": "python",
   "name": "python3"
  },
  "language_info": {
   "codemirror_mode": {
    "name": "ipython",
    "version": 3
   },
   "file_extension": ".py",
   "mimetype": "text/x-python",
   "name": "python",
   "nbconvert_exporter": "python",
   "pygments_lexer": "ipython3",
   "version": "3.12.5"
  }
 },
 "nbformat": 4,
 "nbformat_minor": 2
}
